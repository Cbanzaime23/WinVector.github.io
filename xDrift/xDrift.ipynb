{
 "metadata": {
  "name": "",
  "signature": "sha256:7f71c86bb032c3c18c0d4b03de523a93858f75307990b5e48ee651dd543547c8"
 },
 "nbformat": 3,
 "nbformat_minor": 0,
 "worksheets": [
  {
   "cells": [
    {
     "cell_type": "markdown",
     "metadata": {},
     "source": [
      "Example of using methods from the orthogonal Procrustes problem (  Schonemann, P.H. (1966), A generalized solution of the orthogonal Procrustes problem, Psychometrika 31: 1\u201310 ) to try and solve for simple x concept drift.  For notes on deriving the Procrustes solution see [the application](http://www.win-vector.com/blog/2014/11/can-we-try-to-make-an-adjustment/) and [the derivation](http://winvector.github.io/xDrift/orthApprox.pdf).\n",
      "\n",
      "The ideas is we have a random process generating y_i ~ b . z_i + e_i where y_i is the scalar outcome, z_i is a vector, b is a vector and e_i is the scalar error term.  We further assume that z_i is in fact unobserved and we actually observe pairs (y_i, x_i) where x_i ~ L_1 z_i where L_1 is an unobserved linear operator.  The drift idea is after observing n1 observation pairs we switch to observing only q_i where q_i ~ L_2 z_i (L_2 a new unobserved linear operator) and would like to estimate the now unobserved y_i.\n",
      "\n",
      "We know y_i ~ b L_1^{-1} x_i and can build an estimate g ~ b L_1^{-1} from the initial data.  After the switch over we know the unobserved y_i are ~ b L_2^{-1} x_i so we want an h ~ L_2^{-1}.  h ~ g L_1 L_2^{-1} would work.  So we need an estimate of L_1 L_2^{-1} from our observations of only the x_i and the q_i.\n",
      "\n",
      "For this we appeal to the orthogonal Procrustes problem to find an operator r that sends the observed inertial ellipsoid sum_{i=1...n2} q_i transpose(q_i)/n2 to sum_{i=1...n1} x_i transpose(x_i)/n1 (we call the routine find correction). We then use the estimate y_i ~ g . r q_i."
     ]
    },
    {
     "cell_type": "code",
     "collapsed": false,
     "input": [
      "%load_ext rpy2.ipython"
     ],
     "language": "python",
     "metadata": {},
     "outputs": [],
     "prompt_number": 1
    },
    {
     "cell_type": "code",
     "collapsed": false,
     "input": [
      "# import packages\n",
      "import numpy\n",
      "import math\n",
      "import pandas\n",
      "import sklearn.linear_model"
     ],
     "language": "python",
     "metadata": {},
     "outputs": [],
     "prompt_number": 2
    },
    {
     "cell_type": "code",
     "collapsed": false,
     "input": [
      "%%R\n",
      "library(ggplot2)\n",
      "library(reshape2)"
     ],
     "language": "python",
     "metadata": {},
     "outputs": [],
     "prompt_number": 3
    },
    {
     "cell_type": "code",
     "collapsed": false,
     "input": [
      "# define functions\n",
      "\n",
      "# e1, e2 positive semi-definite square numpy matrices (of same shape)\n",
      "# each one represents an ellipsoid by the quadratic form over vectors\n",
      "# as numpy.transpose(x) * ei * x\n",
      "def findCorrection(e1,e2):\n",
      "    # make sure we are working with matrices, so * is matrix muliplication, not element-wise muliplication\n",
      "    e1 = numpy.matrix(e1)\n",
      "    e2 = numpy.matrix(e2)\n",
      "    # first find principal axes of ellipsoids e1, e2\n",
      "    u1,s1,v1 = numpy.linalg.svd(e1)\n",
      "    l1 = u1*numpy.matrix(numpy.diag([math.sqrt(si) for si in s1]))*v1\n",
      "    l1inv = numpy.transpose(v1)* \\\n",
      "       numpy.matrix(numpy.diag([math.sqrt(1.0/si) if si>1.0e-5 else 0.0 for si in s1]))* \\\n",
      "       numpy.transpose(u1)\n",
      "    u2,s2,v2 = numpy.linalg.svd(e2)\n",
      "    l2 = u2*numpy.matrix(numpy.diag([math.sqrt(si) for si in s2]))*v2\n",
      "    l2inv = numpy.transpose(v2)* \\\n",
      "       numpy.matrix(numpy.diag([math.sqrt(1.0/si) if si>1.0e-5 else 0.0 for si in s2]))* \\\n",
      "       numpy.transpose(u2)\n",
      "    # Find linear transform r from e2 frame to e1 frame.\n",
      "    # We want r * l2 = l1 and r near the identity matrix.\n",
      "    # Write r = l1 * o * l2inv * x, where o is\n",
      "    # an orthonormal matrix chosen so l1 * o * l2inv is\n",
      "    # near the identity matrix.  We know how to minimize |A o - B|F\n",
      "    # for orthognal o (||F Froebenious norm).  This is not the same\n",
      "    # as minimizing |A o B - I|F, but we will use the method we have\n",
      "    # available.\n",
      "    # So we are deliberatly sloppy and will choose to interpret\n",
      "    # \"near the identity\" as |o - l1^{-1} l2|F small \n",
      "    # so we can solve by treating as an orthogonal Procrustes problem.\n",
      "    u3,s3,v3 = numpy.linalg.svd(l1inv*l2)\n",
      "    r = l1*u3*v3*l2inv\n",
      "    return r\n",
      "\n",
      "# frame a Pandas dataframe\n",
      "# varNames a list of strings\n",
      "# get inertial ellipsoid from a pandas data frame for set of columns\n",
      "def getEllipsoid(frame,varNames):\n",
      "    mat = numpy.matrix(frame[varNames].values)\n",
      "    return numpy.transpose(mat)*mat/(1.0*mat.shape[0])"
     ],
     "language": "python",
     "metadata": {},
     "outputs": [],
     "prompt_number": 4
    },
    {
     "cell_type": "code",
     "collapsed": false,
     "input": [
      "# simple example\n",
      "\n",
      "e1 = [[1.1,0.0],[0.0,0.9]]\n",
      "e2 = [[0.9,0.0],[0.0,1.1]]\n",
      "r = findCorrection(e1,e2)\n",
      "print 'r',type(r),r.shape,r\n",
      "\n",
      "print 'e1 est from e2',r.transpose()*e2*r"
     ],
     "language": "python",
     "metadata": {},
     "outputs": [
      {
       "output_type": "stream",
       "stream": "stdout",
       "text": [
        "r <class 'numpy.matrixlib.defmatrix.matrix'> (2, 2) [[ 1.1055416   0.        ]\n",
        " [ 0.          0.90453403]]\n",
        "e1 est from e2 [[ 1.1  0. ]\n",
        " [ 0.   0.9]]\n"
       ]
      }
     ],
     "prompt_number": 5
    },
    {
     "cell_type": "code",
     "collapsed": false,
     "input": [
      "# build data driven example\n",
      "\n",
      "numpy.random.seed(29232295)\n",
      "dim = 3\n",
      "n1 = 100\n",
      "n2 = 100\n",
      "sameRows = False\n",
      "if sameRows:\n",
      "    n2 = n1\n",
      "varNames = [ 'x' + str(i) for i in range(dim) ]\n",
      "colNames = varNames + ['y']\n",
      "print(colNames)\n",
      "L1 = numpy.matrix(numpy.identity(dim) + 0.1*numpy.random.randn(dim,dim))\n",
      "L2 = numpy.matrix(numpy.identity(dim) + 0.1*numpy.random.randn(dim,dim))\n",
      "#L1 = numpy.matrix(numpy.identity(dim))\n",
      "#L2 = numpy.matrix(numpy.identity(dim))\n",
      "b = numpy.matrix(numpy.random.randn(1,dim))\n",
      "noiseMagnitude = 0.1\n",
      "\n",
      "print \"b\",type(b),b.shape,b\n",
      "print \"L1\",type(L1),L1.shape,L1\n",
      "print \"L2\",type(L2),L2.shape,L2\n",
      "\n",
      "copies = []\n",
      "\n",
      "# build training data\n",
      "trainFrame = pandas.DataFrame(columns = colNames)\n",
      "for i in range(n1):\n",
      "    zi = numpy.matrix(numpy.random.randn(dim,1))\n",
      "    if sameRows:\n",
      "        copies.append(zi)\n",
      "    yi = b.dot(zi)[0,0] + noiseMagnitude*numpy.random.rand()\n",
      "    xi = L1*zi\n",
      "    newRow = [ xi[j,0] for j in range(dim) ]\n",
      "    newRow.append(yi)\n",
      "    trainFrame.loc[i] = newRow\n",
      "\n",
      "    \n",
      "# build applied data\n",
      "appFrame = pandas.DataFrame(columns = colNames)\n",
      "for i in range(n2):\n",
      "    if sameRows:\n",
      "        zi = copies[i]\n",
      "    else:\n",
      "        zi = numpy.matrix(numpy.random.randn(dim,1))\n",
      "    yi = b.dot(zi)[0,0] + noiseMagnitude*numpy.random.rand()\n",
      "    qi = L2*zi\n",
      "    newRow = [ qi[j,0] for j in range(dim) ]\n",
      "    newRow.append(yi)\n",
      "    appFrame.loc[i] = newRow"
     ],
     "language": "python",
     "metadata": {},
     "outputs": [
      {
       "output_type": "stream",
       "stream": "stdout",
       "text": [
        "['x0', 'x1', 'x2', 'y']\n",
        "b <class 'numpy.matrixlib.defmatrix.matrix'> (1, 3) [[-0.2468905   0.11248646 -0.45424536]]\n",
        "L1 <class 'numpy.matrixlib.defmatrix.matrix'> (3, 3) [[ 0.98361632  0.07897896  0.18438749]\n",
        " [ 0.0422153   0.9860273   0.09071934]\n",
        " [-0.03331292  0.15028965  1.0828952 ]]\n",
        "L2 <class 'numpy.matrixlib.defmatrix.matrix'> (3, 3) [[ 0.9751936  -0.16789224 -0.00915064]\n",
        " [ 0.05367467  0.93461914  0.11486113]\n",
        " [-0.15742225  0.01337319  1.04831824]]\n"
       ]
      }
     ],
     "prompt_number": 6
    },
    {
     "cell_type": "code",
     "collapsed": false,
     "input": [
      "# fit the model\n",
      "#g = numpy.matrix(numpy.linalg.lstsq(trainFrame[varNames].values,trainFrame['y'])[0])\n",
      "clf = sklearn.linear_model.Ridge(copy_X=True, fit_intercept=False, normalize=False, alpha=0.1)\n",
      "g = numpy.matrix(clf.fit(trainFrame[varNames].values,trainFrame['y']).coef_)\n",
      "print 'g estimate',g\n",
      "print 'unobserved train b estimate',g*L1  # L1 would not be known to an experimentor\n",
      "print 'unosberved b',b\n",
      "\n",
      "e1 = getEllipsoid(trainFrame,varNames)\n",
      "print 'e1',type(e1),e1.shape,e1\n",
      "\n",
      "e2 = getEllipsoid(appFrame,varNames)\n",
      "print 'e2',type(e2),e2.shape,e2\n",
      "\n",
      "r = findCorrection(e1,e2)\n",
      "print 'estimatedCorrection',type(r),r.shape,r\n",
      "print 'estimate Froebenious norm from identity',numpy.linalg.norm(r-numpy.identity(dim),'fro')\n",
      "\n",
      "print 'e1 est from e2 correction',r.transpose()*e2*r\n",
      "\n",
      "xformHidden = (L1*numpy.linalg.inv(L2)).transpose()\n",
      "print 'xformHidden',type(xformHidden),xformHidden.shape,xformHidden\n",
      "print 'xform Froebenious norm from identity',numpy.linalg.norm(xformHidden-numpy.identity(dim),'fro')\n",
      "print 'e1 est from e2 xformHidden',xformHidden.transpose()*e2*xformHidden\n",
      "print 'unobserved transformed estimate',g*xformHidden.transpose()\n",
      "\n",
      "\n",
      "#hHidden = numpy.matrix(numpy.linalg.lstsq(appFrame[varNames].values,appFrame['y'])[0])\n",
      "hHidden = numpy.matrix(clf.fit(appFrame[varNames].values,appFrame['y']).coef_)\n",
      "\n",
      "print 'hHidden',hHidden\n",
      "print 'unobserved train b estimate',hHidden*L2  # L2,hHidden would not be known to an experimentor\n",
      "\n",
      "\n",
      "hEst = g*r.transpose()\n",
      "print 'hEst',type(hEst),hEst.shape,hEst\n",
      "\n",
      "# go through all of the trouble of getting in and out of matrix notation\n",
      "def applyEst(frame,coefs):\n",
      "    return numpy.squeeze(numpy.asarray(numpy.matrix(frame[varNames].values)*(coefs.transpose())))\n",
      "\n",
      "appFrame['yGest'] = pandas.Series(applyEst(appFrame,g),index=appFrame.index)\n",
      "appFrame['yHest'] = pandas.Series(applyEst(appFrame,hEst),index=appFrame.index)\n",
      "\n",
      "print 'g estimate square error',sum([(appFrame['yGest'][i]-appFrame['y'][i])**2 for i in range(n2)])\n",
      "print 'h estimate square error',sum([(appFrame['yHest'][i]-appFrame['y'][i])**2 for i in range(n2)])\n"
     ],
     "language": "python",
     "metadata": {},
     "outputs": [
      {
       "output_type": "stream",
       "stream": "stdout",
       "text": [
        "g estimate [[-0.2675406   0.19573146 -0.39487157]]\n",
        "unobserved train b estimate [[-0.24174012  0.11252138 -0.45917904]]\n",
        "unosberved b [[-0.2468905   0.11248646 -0.45424536]]\n",
        "e1 <class 'numpy.matrixlib.defmatrix.matrix'> (3, 3) [[ 1.09202485  0.18558626  0.2631439 ]\n",
        " [ 0.18558626  0.91587241  0.25676302]\n",
        " [ 0.2631439   0.25676302  1.11305653]]\n",
        "e2 <class 'numpy.matrixlib.defmatrix.matrix'> (3, 3) [[ 1.0619409  -0.17264232 -0.16900112]\n",
        " [-0.17264232  0.98282496  0.31181581]\n",
        " [-0.16900112  0.31181581  1.23567532]]\n",
        "estimatedCorrection <class 'numpy.matrixlib.defmatrix.matrix'> (3, 3) [[  1.03354972e+00   1.45370099e-01   1.47631097e-01]\n",
        " [  1.67885970e-01   9.82482345e-01  -1.06845734e-02]\n",
        " [  2.02640207e-01   9.94363280e-04   9.58209718e-01]]\n",
        "estimate Froebenious norm from identity 0.339809045087\n",
        "e1 est from e2 correction [[ 1.10334624  0.19937212  0.27489248]\n",
        " [ 0.19937212  0.92238125  0.25885977]\n",
        " [ 0.27489248  0.25885977  1.10415758]]\n",
        "xformHidden <class 'numpy.matrixlib.defmatrix.matrix'> (3, 3) [[ 1.01916763 -0.0192741   0.12054787]\n",
        " [ 0.26535617  1.05195543  0.16792552]\n",
        " [ 0.15571075 -0.02888991  1.01563641]]\n",
        "xform Froebenious norm from identity 0.376706628943\n",
        "e1 est from e2 xformHidden [[ 1.08095407  0.117888    0.24869385]\n",
        " [ 0.117888    1.07688986  0.44908736]\n",
        " [ 0.24869385  0.44908736  1.37575606]]\n",
        "unobserved transformed estimate [[-0.32404219  0.06859821 -0.44835955]]\n",
        "hHidden [[-0.33033421  0.06523913 -0.44242063]]\n",
        "unobserved train b estimate [[-0.24899127  0.11051771 -0.4532814 ]]\n",
        "hEst <class 'numpy.matrixlib.defmatrix.matrix'> (1, 3) [[-0.30635833  0.15160543 -0.43238963]]\n",
        "g estimate square error 2.67619425173\n",
        "h estimate square error 1.07708434887\n"
       ]
      }
     ],
     "prompt_number": 7
    },
    {
     "cell_type": "code",
     "collapsed": false,
     "input": [
      "%%R -i appFrame\n",
      "appFrame <- as.data.frame(appFrame)\n",
      "print(summary(appFrame))\n",
      "print(paste('RMS g',mean((appFrame$yGest-appFrame$y)^2)))\n",
      "print(paste('RMS h',mean((appFrame$yHest-appFrame$y)^2)))\n",
      "print(ggplot(data=appFrame) + geom_point(aes(x=yGest,y=y)) + ggtitle(\"g estimate\"))\n",
      "print(ggplot(data=appFrame) + geom_point(aes(x=yHest,y=y)) + ggtitle(\"h (adjusted) estimate\"))\n"
     ],
     "language": "python",
     "metadata": {},
     "outputs": [
      {
       "metadata": {},
       "output_type": "display_data",
       "text": [
        "       x0                 x1                 x2                  y           \n",
        " Min.   :-2.65631   Min.   :-3.34399   Min.   :-2.538284   Min.   :-1.61731  \n",
        " 1st Qu.:-0.65545   1st Qu.:-0.68815   1st Qu.:-0.633643   1st Qu.:-0.31558  \n",
        " Median :-0.01663   Median : 0.08632   Median : 0.006595   Median : 0.03485  \n",
        " Mean   :-0.02383   Mean   :-0.03239   Mean   : 0.026068   Mean   : 0.04075  \n",
        " 3rd Qu.: 0.68427   3rd Qu.: 0.56412   3rd Qu.: 0.836432   3rd Qu.: 0.36875  \n",
        " Max.   : 2.05161   Max.   : 2.38584   Max.   : 2.377135   Max.   : 1.55191  \n",
        "     yGest              yHest          \n",
        " Min.   :-1.43014   Min.   :-1.596740  \n",
        " 1st Qu.:-0.33046   1st Qu.:-0.341212  \n",
        " Median :-0.04218   Median :-0.052606  \n",
        " Mean   :-0.01026   Mean   :-0.008882  \n",
        " 3rd Qu.: 0.27287   3rd Qu.: 0.318612  \n",
        " Max.   : 1.33709   Max.   : 1.471736  \n",
        "[1] \"RMS g 0.0267619425172501\"\n",
        "[1] \"RMS h 0.010770843488707\"\n"
       ]
      },
      {
       "metadata": {},
       "output_type": "display_data",
       "png": "[encoded data removed]"
      },
      {
       "metadata": {},
       "output_type": "display_data",
       "png": "[encoded data removed]"
      }
     ],
     "prompt_number": 8
    },
    {
     "cell_type": "code",
     "collapsed": false,
     "input": [],
     "language": "python",
     "metadata": {},
     "outputs": [],
     "prompt_number": 8
    }
   ],
   "metadata": {}
  }
 ]
}